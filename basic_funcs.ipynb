{
 "cells": [
  {
   "cell_type": "code",
   "execution_count": 25,
   "metadata": {},
   "outputs": [],
   "source": [
    "import pandas as pd\n"
   ]
  },
  {
   "cell_type": "code",
   "execution_count": 26,
   "metadata": {},
   "outputs": [],
   "source": [
    "def to_upper_case(df, col_name):\n",
    "    df[col_name] = df[col_name].str.upper()\n",
    "    return df"
   ]
  },
  {
   "cell_type": "code",
   "execution_count": 27,
   "metadata": {},
   "outputs": [],
   "source": [
    "def to_lower_case(df, col_name):\n",
    "    df[col_name] = df[col_name].str.lower()\n",
    "    return df"
   ]
  },
  {
   "cell_type": "code",
   "execution_count": 28,
   "metadata": {},
   "outputs": [],
   "source": [
    "def to_proper_case(df, col_name):\n",
    "    df[col_name] = df[col_name].str.title()\n",
    "    return df"
   ]
  },
  {
   "cell_type": "code",
   "execution_count": 29,
   "metadata": {},
   "outputs": [],
   "source": [
    "# Call built-in function directly\n",
    "def remove_duplicate_rows(df, subset=None):\n",
    "    return df.drop_duplicates(subset=subset)"
   ]
  },
  {
   "cell_type": "code",
   "execution_count": null,
   "metadata": {},
   "outputs": [],
   "source": [
    "def fill_missing(df, col_name, fill_with, value=0):\n",
    "    if fill_with == \"value\":\n",
    "        df[col_name] = df[col_name].fillna(value=value, axis=1)\n",
    "    elif fill_with == \"mean\":\n",
    "        df[col_name] = df[col_name].fillna(df[col_name].mean(), axis=1)\n",
    "    elif fill_with == \"mode\":\n",
    "        df[col_name] = df[col_name].fillna(df[col_name].mean(), axis=1)\n",
    "    elif "
   ]
  },
  {
   "cell_type": "code",
   "execution_count": 30,
   "metadata": {},
   "outputs": [],
   "source": [
    "df = pd.read_excel(\"hies_3a.xlsx\")"
   ]
  },
  {
   "cell_type": "code",
   "execution_count": 35,
   "metadata": {},
   "outputs": [
    {
     "name": "stdout",
     "output_type": "stream",
     "text": [
      "0    24\n",
      "dtype: int64\n"
     ]
    }
   ],
   "source": [
    "data = {\"Name\": [\"James\", \"Alice\", \"Phil\", \"James\"],\n",
    "\t\t\"Age\": [24, 28, 40, 24],\n",
    "\t\t\"Sex\": [\"Male\", \"Female\", \"Male\", \"Male\"]}\n",
    "df = pd.DataFrame(data)\n",
    "print(df.Age.mode())"
   ]
  },
  {
   "cell_type": "code",
   "execution_count": 33,
   "metadata": {},
   "outputs": [
    {
     "name": "stdout",
     "output_type": "stream",
     "text": [
      "    Name  Age     Sex\n",
      "0  James   24    Male\n",
      "1  Alice   28  Female\n"
     ]
    }
   ],
   "source": [
    "df1 = remove_duplicate_rows(df, subset=\"\")\n",
    "print(df1)"
   ]
  }
 ],
 "metadata": {
  "kernelspec": {
   "display_name": "Python 3",
   "language": "python",
   "name": "python3"
  },
  "language_info": {
   "codemirror_mode": {
    "name": "ipython",
    "version": 3
   },
   "file_extension": ".py",
   "mimetype": "text/x-python",
   "name": "python",
   "nbconvert_exporter": "python",
   "pygments_lexer": "ipython3",
   "version": "3.7.3"
  }
 },
 "nbformat": 4,
 "nbformat_minor": 1
}
