{
 "cells": [
  {
   "cell_type": "code",
   "execution_count": 11,
   "metadata": {},
   "outputs": [],
   "source": [
    "import numpy as np\n",
    "import pandas as pd\n",
    "from sklearn.impute import SimpleImputer"
   ]
  },
  {
   "cell_type": "code",
   "execution_count": 12,
   "metadata": {},
   "outputs": [],
   "source": [
    "def to_upper_case(df, col_name):\n",
    "    df[col_name] = df[col_name].str.upper()\n",
    "    return df"
   ]
  },
  {
   "cell_type": "code",
   "execution_count": 13,
   "metadata": {},
   "outputs": [],
   "source": [
    "def to_lower_case(df, col_name):\n",
    "    df[col_name] = df[col_name].str.lower()\n",
    "    return df"
   ]
  },
  {
   "cell_type": "code",
   "execution_count": 14,
   "metadata": {},
   "outputs": [],
   "source": [
    "def to_proper_case(df, col_name):\n",
    "    df[col_name] = df[col_name].str.title()\n",
    "    return df"
   ]
  },
  {
   "cell_type": "code",
   "execution_count": 15,
   "metadata": {},
   "outputs": [],
   "source": [
    "# Call built-in function directly\n",
    "def remove_duplicate_rows(df, subset=None):\n",
    "    return df.drop_duplicates(subset=subset)"
   ]
  },
  {
   "cell_type": "code",
   "execution_count": 16,
   "metadata": {},
   "outputs": [],
   "source": [
    "# df = pd.read_excel(\"hies_3a.xlsx\")\n",
    "df = pd.read_csv(\"titanic.csv\", sep='\\t')\n",
    "# df.describe()\n",
    "# (1 - df.count() / len(df))*100"
   ]
  },
  {
   "cell_type": "code",
   "execution_count": 17,
   "metadata": {},
   "outputs": [],
   "source": [
    "# data = {\"Name\": [\"James\", \"Alice\", \"Phil\", \"James\"],\n",
    "# \t\t\"Age\": [24, 28, 40, 24],\n",
    "# \t\t\"Sex\": [\"Male\", \"Female\", \"Male\", \"Male\"]}\n",
    "# df = pd.DataFrame(data)\n",
    "# print(df.Age.mode())"
   ]
  },
  {
   "cell_type": "code",
   "execution_count": 18,
   "metadata": {},
   "outputs": [],
   "source": [
    "# print(df['Age'].values.reshape(1, -1))\n",
    "# print(len(df['Age']))\n",
    "# print(df['Age'])"
   ]
  },
  {
   "cell_type": "code",
   "execution_count": 19,
   "metadata": {},
   "outputs": [],
   "source": [
    "def impute_missing(df, col_name, strategy='mean', fill_value=None):\n",
    "    \"\"\"\n",
    "    strategy must be one of: mean, median, most_frequent, constant\n",
    "    if strategy is 'constant' then give fill_value kwarg the value\n",
    "    \"\"\"\n",
    "    imp = SimpleImputer(strategy=strategy, fill_value=None)\n",
    "    df[col_name] = imp.fit_transform(df[col_name].values.reshape(-1, 1))\n",
    "    return df"
   ]
  },
  {
   "cell_type": "code",
   "execution_count": 20,
   "metadata": {},
   "outputs": [],
   "source": [
    "def standardize_num(df, col_name, strategy, decimals=0):\n",
    "    if strategy == 'abs':\n",
    "        df[col_name] = df[col_name].abs()\n",
    "    elif strategy == 'round':\n",
    "        df[col_name] = df[col_name].round(decimals)"
   ]
  },
  {
   "cell_type": "code",
   "execution_count": null,
   "metadata": {},
   "outputs": [],
   "source": [
    "def remove_whitespace(df, col_name):\n",
    "    df[col_name] = df[col_name].str.strip()\n",
    "    df[col_name] = df[col_name].str.replace('\\s{2,}', ' ')"
   ]
  },
  {
   "cell_type": "code",
   "execution_count": null,
   "metadata": {},
   "outputs": [],
   "source": []
  }
 ],
 "metadata": {
  "kernelspec": {
   "display_name": "Python 3",
   "language": "python",
   "name": "python3"
  },
  "language_info": {
   "codemirror_mode": {
    "name": "ipython",
    "version": 3
   },
   "file_extension": ".py",
   "mimetype": "text/x-python",
   "name": "python",
   "nbconvert_exporter": "python",
   "pygments_lexer": "ipython3",
   "version": "3.7.3"
  }
 },
 "nbformat": 4,
 "nbformat_minor": 1
}
