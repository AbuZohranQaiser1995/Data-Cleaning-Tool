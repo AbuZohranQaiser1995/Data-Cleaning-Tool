{
 "cells": [
  {
   "cell_type": "code",
   "execution_count": 19,
   "metadata": {},
   "outputs": [],
   "source": [
    "def audit_report(filename):\n",
    "    df=pd.read_excel(filename)\n",
    "    print(\"**************************AUDIT REPORT***********************\")\n",
    "    print (\"-----------------Number of Columns--------------------------\")\n",
    "    print(len(df.columns))\n",
    "    print (\"-----------------Number of Records--------------------------\")\n",
    "    print(len(df.index))\n",
    "    print (\"-----------------Columns Data Types-------------------------\")\n",
    "    print(df.dtypes)\n",
    "    print (\"-----------------Number of Missing cells--------------------\")\n",
    "    print(df.isnull().sum())\n",
    "    print (\"-----------------Number of duplicate rows--------------------\")    \n",
    "    print(df.duplicated().sum())\n",
    "    print (\"-----------------Memory Taken By Dataframe-------------------\") \n",
    "    print((df.memory_usage(deep=True).sum())/1048576, \"MB\" )\n",
    "    print (\"-----------------Warning-------------------\")\n",
    "    print(df.count().idxmin())\n",
    "    return;"
   ]
  },
  {
   "cell_type": "code",
   "execution_count": 20,
   "metadata": {},
   "outputs": [
    {
     "name": "stdout",
     "output_type": "stream",
     "text": [
      "**************************AUDIT REPORT***********************\n",
      "-----------------Number of Columns--------------------------\n",
      "20\n",
      "-----------------Number of Records--------------------------\n",
      "513961\n",
      "-----------------Columns Data Types-------------------------\n",
      "hhcode        int64\n",
      "psu           int64\n",
      "province     object\n",
      "region       object\n",
      "district     object\n",
      "sec          object\n",
      "idc           int64\n",
      "sbq02        object\n",
      "sbq03        object\n",
      "sbq04        object\n",
      "sbq05        object\n",
      "sbq61         int64\n",
      "sbq62         int64\n",
      "sbq63         int64\n",
      "age           int64\n",
      "sbq07        object\n",
      "sbq08       float64\n",
      "sbq09         int64\n",
      "sbq10         int64\n",
      "sbq11        object\n",
      "dtype: object\n",
      "-----------------Number of Missing cells--------------------\n",
      "hhcode           0\n",
      "psu              0\n",
      "province         0\n",
      "region           0\n",
      "district         0\n",
      "sec              0\n",
      "idc              0\n",
      "sbq02            0\n",
      "sbq03        78642\n",
      "sbq04            0\n",
      "sbq05            0\n",
      "sbq61            0\n",
      "sbq62            0\n",
      "sbq63            0\n",
      "age              0\n",
      "sbq07            0\n",
      "sbq08       321765\n",
      "sbq09            0\n",
      "sbq10            0\n",
      "sbq11            0\n",
      "dtype: int64\n",
      "-----------------Number of duplicate rows--------------------\n",
      "16\n",
      "-----------------Memory Taken By Dataframe-------------------\n",
      "358.49631690979004 MB\n",
      "-----------------Warning-------------------\n",
      "sbq08\n"
     ]
    }
   ],
   "source": [
    "audit_report(\"C:/Users/Zohran/Documents/R/sec_b.xlsx\")"
   ]
  },
  {
   "cell_type": "code",
   "execution_count": 3,
   "metadata": {},
   "outputs": [],
   "source": [
    "import pandas as pd"
   ]
  },
  {
   "cell_type": "code",
   "execution_count": 14,
   "metadata": {},
   "outputs": [
    {
     "ename": "NameError",
     "evalue": "name 'df' is not defined",
     "output_type": "error",
     "traceback": [
      "\u001b[1;31m---------------------------------------------------------------------------\u001b[0m",
      "\u001b[1;31mNameError\u001b[0m                                 Traceback (most recent call last)",
      "\u001b[1;32m<ipython-input-14-11c0d70535a3>\u001b[0m in \u001b[0;36m<module>\u001b[1;34m\u001b[0m\n\u001b[1;32m----> 1\u001b[1;33m \u001b[0mdf\u001b[0m\u001b[1;33m.\u001b[0m\u001b[0mcount\u001b[0m\u001b[1;33m(\u001b[0m\u001b[1;33m)\u001b[0m\u001b[1;33m.\u001b[0m\u001b[0midxmin\u001b[0m\u001b[1;33m(\u001b[0m\u001b[1;33m)\u001b[0m\u001b[1;33m\u001b[0m\u001b[1;33m\u001b[0m\u001b[0m\n\u001b[0m",
      "\u001b[1;31mNameError\u001b[0m: name 'df' is not defined"
     ]
    }
   ],
   "source": [
    "df.count().idxmin()"
   ]
  }
 ],
 "metadata": {
  "kernelspec": {
   "display_name": "Python 3",
   "language": "python",
   "name": "python3"
  },
  "language_info": {
   "codemirror_mode": {
    "name": "ipython",
    "version": 3
   },
   "file_extension": ".py",
   "mimetype": "text/x-python",
   "name": "python",
   "nbconvert_exporter": "python",
   "pygments_lexer": "ipython3",
   "version": "3.7.3"
  }
 },
 "nbformat": 4,
 "nbformat_minor": 2
}
