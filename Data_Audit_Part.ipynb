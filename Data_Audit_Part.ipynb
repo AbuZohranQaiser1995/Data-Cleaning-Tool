{
 "cells": [
  {
   "cell_type": "code",
   "execution_count": 4,
   "metadata": {},
   "outputs": [],
   "source": [
    "import pandas as pd\n",
    "\n",
    "def audit_report(df):\n",
    "    print(\"**************************AUDIT REPORT***********************\")\n",
    "    print (\"-----------------Number of Columns--------------------------\")\n",
    "    print(len(df.columns))\n",
    "    print (\"-----------------Number of Records--------------------------\")\n",
    "    print(len(df.index))\n",
    "    print (\"-----------------Columns Data Types-------------------------\")\n",
    "    print(df.dtypes)\n",
    "    print (\"-----------------Number of Missing cells--------------------\")\n",
    "    print(df.isnull().sum())\n",
    "    print (\"-----------------Number of duplicate rows--------------------\")    \n",
    "    print(df.duplicated().sum())\n",
    "    print (\"-----------------Memory Taken By Dataframe-------------------\") \n",
    "    print((df.memory_usage(deep=True).sum())/1048576, \"MB\" )\n",
    "    print (\"-----------------------Warning-------------------------------\")\n",
    "    print(\"Max missing values are in column:\",df.count().idxmin())\n",
    "    print (\"-------------------Range of columns--------------------------\")\n",
    "    print(df.describe().loc[['max','min']])\n",
    "    print(\"--------------------Unique Classes in columns-----------------\")\n",
    "    for i in df:\n",
    "        if(df[i].dtypes==\"object\"):\n",
    "            print( df[i].unique())\n",
    "        \n",
    "    return;\n",
    "\n"
   ]
  },
  {
   "cell_type": "code",
   "execution_count": 31,
   "metadata": {},
   "outputs": [],
   "source": [
    "def main_function():\n",
    "    user_file_name = \"C:/Users/Zohran/Documents/R/sec_b.xlsx\"#input(\"Enter full file path\")\n",
    "    df = pd.read_excel(user_file_name)\n",
    "    #audit_report(df)\n",
    "    merge_columns(df, \"sbq09\", \"sbq10\")\n",
    "    #sort_column(df,\"sbq09\")\n",
    "    #filter_column(df)\n",
    "    return;"
   ]
  },
  {
   "cell_type": "code",
   "execution_count": 32,
   "metadata": {},
   "outputs": [
    {
     "name": "stdout",
     "output_type": "stream",
     "text": [
      "Press 1 for addition\n",
      "Press 2 for subtraction\n",
      "Press 3 for division\n",
      "Press 4 for multiplication\n",
      "Press 5 for maximum\n",
      "Press 6 for minimum\n",
      "Enter your choice: 1\n",
      "       hhcode       psu province region district  sec  idc  \\\n",
      "0  1111000101  11110001       kp  rural  chitral  00B    1   \n",
      "1  1111000101  11110001       kp  rural  chitral  00B    2   \n",
      "2  1111000101  11110001       kp  rural  chitral  00B    3   \n",
      "3  1111000101  11110001       kp  rural  chitral  00B    4   \n",
      "4  1111000101  11110001       kp  rural  chitral  00B    5   \n",
      "\n",
      "                 sbq02         sbq03   sbq04  ... sbq61  sbq62  sbq63  age  \\\n",
      "0                 head           NaN    male  ...  1933      0      0   81   \n",
      "1               spouse  family elder  female  ...  1944      0      0   70   \n",
      "2         son/daughter  family elder    male  ...  1970      0      0   44   \n",
      "3  son/daughter-in-law  family elder  female  ...  1977      0      0   37   \n",
      "4          grand child  family elder    male  ...  2002      0      0   12   \n",
      "\n",
      "                     sbq07 sbq08  sbq09  sbq10  sbq11 add_operation  \n",
      "0        currently married   2.0     98     98    yes    sbq09sbq10  \n",
      "1        currently married   1.0     98     98    yes    sbq09sbq10  \n",
      "2        currently married   4.0      1      2    yes    sbq09sbq10  \n",
      "3        currently married   3.0     99     99    yes    sbq09sbq10  \n",
      "4  unmarried/never married   NaN      3      4    yes    sbq09sbq10  \n",
      "\n",
      "[5 rows x 21 columns]\n"
     ]
    },
    {
     "data": {
      "image/png": "[encoded data removed]",
      "text/plain": [
       "<Figure size 432x288 with 1 Axes>"
      ]
     },
     "metadata": {
      "needs_background": "light"
     },
     "output_type": "display_data"
    }
   ],
   "source": [
    "main_function()"
   ]
  },
  {
   "cell_type": "code",
   "execution_count": 30,
   "metadata": {},
   "outputs": [],
   "source": [
    "def my_add(c1,c2):\n",
    "    return (c1+c2)\n",
    "\n",
    "def my_subtract(c1,c2):\n",
    "    return (c1-c2)\n",
    "\n",
    "def my_multiply(c1,c2):\n",
    "    return (c1*c2)\n",
    "\n",
    "def my_divide(c1,c2):\n",
    "    return c1/c2\n",
    "\n",
    "\n",
    "def merge_columns(df, col_name1, col_name2):\n",
    "    if(df[col_name1].dtype != \"object\" and df[col_name2].dtype != \"object\" ):\n",
    "        print(\"Press 1 for addition\")\n",
    "        print(\"Press 2 for subtraction\")\n",
    "        print(\"Press 3 for division\")\n",
    "        print(\"Press 4 for multiplication\")\n",
    "        print(\"Press 5 for maximum\")\n",
    "        print(\"Press 6 for minimum\")\n",
    "        option = input(\"Enter your choice: \")\n",
    "        \n",
    "        if(option=='1'):\n",
    "            new_col=my_add(col_name1, col_name2)\n",
    "            df['add_operation']=new_col\n",
    "            print(df.head())\n",
    "        elif(option=='2'):\n",
    "            new_col=my_subtract(col_name1, col_name2)\n",
    "            df['subtract_operation']=new_col\n",
    "            print(df.head())\n",
    "        elif(option=='3'):\n",
    "            new_col=my_multiply(col_name1, col_name2)\n",
    "            df['multiply_operation']=new_col\n",
    "            print(df.head())\n",
    "        elif(option=='4'):\n",
    "            new_col=my_divide(col_name1, col_name2)\n",
    "            df['divide_operation']=new_col\n",
    "            print(df.head())\n",
    "        elif(option=='5'):\n",
    "            new_col=df[[col_name1, col_name2]].values.max(1)\n",
    "            df['max_operation']=new_col\n",
    "            print(df.head())\n",
    "        elif(option=='6'):\n",
    "            new_col=df[[col_name1, col_name2]].values.min(1)\n",
    "            df['min_operation']=new_col\n",
    "            print(df.head())\n",
    "        else:\n",
    "            print(\"Wrong Input\")\n",
    "    elif(df[col_name1].dtype == \"object\" and df[col_name2].dtype == \"object\" ):\n",
    "        df[\"concatenated\"]= df[col_name1]+' '+df[col_name2]\n",
    "        print(df.head())\n",
    "    else:\n",
    "        print(\"Error: Type should be numeric\")\n",
    "    dis_graph(df)"
   ]
  },
  {
   "cell_type": "code",
   "execution_count": 12,
   "metadata": {},
   "outputs": [],
   "source": [
    "def sort_column(df,col1):\n",
    "    df.sort_values(col1,inplace=True)\n",
    "    print(df)\n",
    "    return;"
   ]
  },
  {
   "cell_type": "code",
   "execution_count": 11,
   "metadata": {},
   "outputs": [],
   "source": [
    "def filter_column(df):\n",
    "    List=[]\n",
    "    col_num= input(\"how many columns you want to display:  \")\n",
    "\n",
    "    for i in range(int(col_num)):\n",
    "        col_name= input(\"Enter column name to display:  \")\n",
    "        if(col_name in df.columns):\n",
    "            List.append(col_name)\n",
    "        else:\n",
    "            print(\"Wrong column name\")\n",
    "     \n",
    "    for j in List:   \n",
    "        print(df[j].head())"
   ]
  },
  {
   "cell_type": "code",
   "execution_count": 29,
   "metadata": {},
   "outputs": [],
   "source": [
    "%matplotlib inline\n",
    "import matplotlib.pyplot as plt\n",
    "\n",
    "def dis_graph(df):\n",
    "    df.plot()\n",
    "    plt.show()"
   ]
  }
 ],
 "metadata": {
  "kernelspec": {
   "display_name": "Python 3",
   "language": "python",
   "name": "python3"
  },
  "language_info": {
   "codemirror_mode": {
    "name": "ipython",
    "version": 3
   },
   "file_extension": ".py",
   "mimetype": "text/x-python",
   "name": "python",
   "nbconvert_exporter": "python",
   "pygments_lexer": "ipython3",
   "version": "3.7.3"
  }
 },
 "nbformat": 4,
 "nbformat_minor": 2
}
